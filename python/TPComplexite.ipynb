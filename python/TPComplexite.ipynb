{
 "cells": [
  {
   "cell_type": "code",
   "execution_count": 15,
   "metadata": {
    "datalore": {
     "hide_input_from_viewers": false,
     "hide_output_from_viewers": false,
     "type": "CODE"
    }
   },
   "outputs": [],
   "source": [
    "import random\n",
    "from plotnine import *\n",
    "from plotnine.data import mpg\n",
    "from plotnine import ggplot\n",
    "import numpy as np\n",
    "import pandas as pd\n",
    "import os"
   ]
  },
  {
   "cell_type": "code",
   "execution_count": 2,
   "metadata": {
    "datalore": {
     "hide_input_from_viewers": false,
     "hide_output_from_viewers": false,
     "type": "CODE"
    }
   },
   "outputs": [],
   "source": [
    "def echange(a: int, b: int) -> [int, int]:\n",
    "    \"\"\"Fonction pour échanger deux entiers\"\"\"\n",
    "    temp = a\n",
    "    a = b\n",
    "    b = temp\n",
    "    return a, b"
   ]
  },
  {
   "cell_type": "code",
   "execution_count": 3,
   "metadata": {
    "datalore": {
     "hide_input_from_viewers": false,
     "hide_output_from_viewers": false,
     "type": "CODE"
    }
   },
   "outputs": [],
   "source": [
    "def affiche(table: list) -> None:\n",
    "    \"\"\"Fonction qui affiche un tableau\"\"\"\n",
    "    print(table)\n",
    "    print(\"\\n\")"
   ]
  },
  {
   "cell_type": "code",
   "execution_count": 4,
   "metadata": {
    "datalore": {
     "hide_input_from_viewers": false,
     "hide_output_from_viewers": false,
     "type": "CODE"
    }
   },
   "outputs": [],
   "source": [
    "class Experience:\n",
    "    def __init__(self, m: int, p: int) -> None:\n",
    "        \"\"\"\n",
    "        Fonction qui cree une expérience et la stocke dans la structure passée en paramètre\n",
    "        Attention : il faut que p ≤ m\n",
    "        :param m: Nombre de marqueurs\n",
    "        :type m: int\n",
    "        :param p: Nombre de marqueurs positifs\n",
    "        :type p: int\n",
    "        marqueurs: Tous les marqueurs\n",
    "        marqueurs_positifs: Les marqueurs positifs\n",
    "        \"\"\"\n",
    "        self.m = m\n",
    "\n",
    "        self.marqueurs = [i for i in range(0, m)]\n",
    "        # random.shuffle uses fisher-yates algorithm\n",
    "        random.shuffle(self.marqueurs)\n",
    "\n",
    "        tmp = [i for i in range(0, m)]\n",
    "        self.p = p\n",
    "        self.marqueurs_positifs = []\n",
    "        for i in range(0, p):\n",
    "            j = random.randint(0, m - 1 - i)\n",
    "            self.marqueurs_positifs.insert(i, self.marqueurs[tmp[j]])\n",
    "            tmp[j] = tmp[m - i - 1]\n",
    "\n",
    "    def free_xp(self):\n",
    "        self.marqueurs.clear()\n",
    "        self.marqueurs_positifs.clear()"
   ]
  },
  {
   "cell_type": "code",
   "execution_count": 5,
   "metadata": {
    "datalore": {
     "hide_input_from_viewers": false,
     "hide_output_from_viewers": false,
     "type": "CODE"
    }
   },
   "outputs": [],
   "source": [
    "\n",
    "def merge(arr: list, left_index: int, middle_index: int, right_index: int) -> None:\n",
    "    \"\"\"\n",
    "    Algorithme de tri fusion\n",
    "    Merges two subarrays of arr[].\n",
    "    First subarray is arr[l..m]\n",
    "    Second subarray is arr[m+1..r]\n",
    "    :param arr:\n",
    "    :param left_index:\n",
    "    :param middle_index:\n",
    "    :param right_index:\n",
    "    :return:\n",
    "    \"\"\"\n",
    "    n1 = middle_index - left_index + 1\n",
    "    n2 = right_index - middle_index\n",
    "    left, right = [], []\n",
    "    for i in range(0, n1):\n",
    "        left.insert(i, arr[left_index + i])\n",
    "    for j in range(0, n2):\n",
    "        right.insert(j, arr[middle_index + 1 + j])\n",
    "\n",
    "    i, j, k = 0, 0, left_index\n",
    "    while i < n1 and j < n2:\n",
    "        if left[i] <= right[j]:\n",
    "            arr[k] = left[i]\n",
    "            i += 1\n",
    "        else:\n",
    "            arr[k] = right[j]\n",
    "            j += 1\n",
    "        k += 1\n",
    "\n",
    "    while i < n1:\n",
    "        arr[k] = left[i]\n",
    "        i += 1\n",
    "        k += 1\n",
    "\n",
    "    while j < n2:\n",
    "        arr[k] = right[j]\n",
    "        j += 1\n",
    "        k += 1"
   ]
  },
  {
   "cell_type": "code",
   "execution_count": 6,
   "metadata": {
    "datalore": {
     "hide_input_from_viewers": false,
     "hide_output_from_viewers": false,
     "type": "CODE"
    }
   },
   "outputs": [],
   "source": [
    "\n",
    "def merge_sort(arr: list, left_index: int, right_index: int) -> None:\n",
    "    \"\"\"\n",
    "    l is for left index and r is right index of the sub-array of arr to be sorted\n",
    "    :param arr:\n",
    "    :param left_index:\n",
    "    :param right_index:\n",
    "    :return:\n",
    "    \"\"\"\n",
    "    if left_index < right_index:\n",
    "        m = left_index + (right_index - left_index) // 2\n",
    "\n",
    "        merge_sort(arr, left_index, m)\n",
    "        merge_sort(arr, m + 1, right_index)\n",
    "\n",
    "        merge(arr, left_index, m, right_index)"
   ]
  },
  {
   "cell_type": "code",
   "execution_count": 7,
   "metadata": {
    "datalore": {
     "hide_input_from_viewers": false,
     "hide_output_from_viewers": false,
     "type": "CODE"
    }
   },
   "outputs": [],
   "source": [
    "def marqueurs_negatifs1(xp: Experience) -> [list]:\n",
    "    \"\"\"\n",
    "    Fonction a completer - Stratégie 1\n",
    "    :param xp:\n",
    "    :return:\n",
    "    \"\"\"\n",
    "    cpt_op = 0\n",
    "    res = []\n",
    "    for elt in xp.marqueurs:\n",
    "        found, tmpop = rech_seq(xp.marqueurs_positifs, elt)\n",
    "        cpt_op+=tmpop\n",
    "        if not found:\n",
    "            res.append(elt)\n",
    "    return res, cpt_op"
   ]
  },
  {
   "cell_type": "code",
   "execution_count": 8,
   "metadata": {
    "datalore": {
     "hide_input_from_viewers": false,
     "hide_output_from_viewers": false,
     "type": "CODE"
    }
   },
   "outputs": [],
   "source": [
    "def rech_seq(array, marqueur_rech):\n",
    "    op=0\n",
    "    for elt in array:\n",
    "        op += 1\n",
    "        if elt == marqueur_rech:\n",
    "            return True, op\n",
    "    return False, op"
   ]
  },
  {
   "cell_type": "code",
   "execution_count": 9,
   "metadata": {
    "datalore": {
     "hide_input_from_viewers": false,
     "hide_output_from_viewers": false,
     "type": "CODE"
    }
   },
   "outputs": [],
   "source": [
    "def marqueurs_negatifs2(xp: Experience) -> [list]:\n",
    "    \"\"\"\n",
    "    Fonction a completer - Stratégie 2\n",
    "    :param xp:\n",
    "    :return:\n",
    "    \"\"\"\n",
    "    xpn = xp.m - xp.p\n",
    "    res = []\n",
    "    merge_sort(xp.marqueurs_positifs, 0, xp.p - 1)\n",
    "    cpt_op = 0\n",
    "    for elt in xp.marqueurs:\n",
    "        trouver, tmpop = rechercher_dico(xp.marqueurs_positifs, xp.p, elt)\n",
    "        cpt_op += tmpop\n",
    "        if not trouver:\n",
    "            res.append(elt)\n",
    "        if len(res) == xpn:\n",
    "            break\n",
    "\n",
    "    return res, cpt_op"
   ]
  },
  {
   "cell_type": "code",
   "execution_count": 10,
   "metadata": {
    "datalore": {
     "hide_input_from_viewers": false,
     "hide_output_from_viewers": false,
     "type": "CODE"
    }
   },
   "outputs": [],
   "source": [
    "def rechercher_dico(table: list, n: int, elt: int):\n",
    "    bas, op, haut = 0,0, n - 1\n",
    "    while True:\n",
    "        op += 1\n",
    "        milieu = (bas + haut) // 2\n",
    "        if elt == table[milieu]:\n",
    "            return True, op\n",
    "        elif table[milieu] < elt:\n",
    "            bas = milieu + 1\n",
    "        else:\n",
    "            haut = milieu - 1\n",
    "        if not bas <= haut:\n",
    "            break\n",
    "    return False, op"
   ]
  },
  {
   "cell_type": "code",
   "execution_count": 11,
   "metadata": {
    "datalore": {
     "hide_input_from_viewers": false,
     "hide_output_from_viewers": false,
     "type": "CODE"
    }
   },
   "outputs": [],
   "source": [
    "def marqueurs_negatifs3(xp: Experience) -> [list]:\n",
    "    \"\"\"\n",
    "    Fonction a completer - Stratégie 3\n",
    "    :param xp:\n",
    "    :return:\n",
    "    \"\"\"\n",
    "    nn = xp.m - xp.p\n",
    "    cpt_op, debut, pos = 0, 0, 0\n",
    "    res = []\n",
    "    merge_sort(xp.marqueurs, 0, xp.m - 1)\n",
    "    merge_sort(xp.marqueurs_positifs, 0, xp.p - 1)\n",
    "    for p in xp.marqueurs_positifs:\n",
    "        cpt_op += 1\n",
    "        pos = position(xp.marqueurs, p)\n",
    "        for i in range(debut, pos):\n",
    "            cpt_op += 1\n",
    "            res.append(xp.marqueurs[i])\n",
    "        debut = pos + 1\n",
    "        if len(res) == nn:\n",
    "            break\n",
    "    if len(res) < nn:\n",
    "        for i in range(pos + 1, xp.m):\n",
    "            cpt_op += 1\n",
    "            res.append(xp.marqueurs[i])\n",
    "\n",
    "    return res, cpt_op"
   ]
  },
  {
   "cell_type": "code",
   "execution_count": 12,
   "metadata": {},
   "outputs": [],
   "source": [
    "def position(t, elt):\n",
    "    for i in range(len(t)):\n",
    "        if t[i] == elt:\n",
    "            return i\n",
    "    return -1"
   ]
  },
  {
   "cell_type": "code",
   "execution_count": 13,
   "metadata": {
    "datalore": {
     "hide_input_from_viewers": false,
     "hide_output_from_viewers": false,
     "type": "CODE"
    }
   },
   "outputs": [],
   "source": [
    "def test(p: int, m: int):\n",
    "    xp = Experience(m, p)\n",
    "#    print(\"Marqueurs :\\n\")\n",
    "#    affiche(xp.marqueurs)\n",
    "#    print(\"Marqueurs positifs :\\n\")\n",
    "#    affiche(xp.marqueurs_positifs)\n",
    "\n",
    "    # print(\"Stratégie 1\\n\")\n",
    "    marqueurs_negatifs, cpt1 = marqueurs_negatifs1(xp)\n",
    "    # print(\"Marqueurs négatifs :\\n\")\n",
    "    # affiche(marqueurs_negatifs)\n",
    "    # print(\"Stratégie 1 / Nombres d'opérations : \" + str(cpt) + \"\\n\\n\")\n",
    "    marqueurs_negatifs.clear()\n",
    "\n",
    "    # print(\"Stratégie 2\\n\")\n",
    "    marqueurs_negatifs, cpt2 = marqueurs_negatifs2(xp)\n",
    "    # print(\"Marqueurs négatifs :\\n\")\n",
    "    # affiche(marqueurs_negatifs)\n",
    "    # print(\"Stratégie 2 / Nombres d'opérations : \" + str(cpt) + \"\\n\\n\")\n",
    "    marqueurs_negatifs.clear()\n",
    "\n",
    "    # print(\"Stratégie 3\\n\")\n",
    "    marqueurs_negatifs, cpt3 = marqueurs_negatifs3(xp)\n",
    "    # print(\"Marqueurs négatifs :\\n\")\n",
    "    # affiche(marqueurs_negatifs)\n",
    "    # print(\"Stratégie 3 / Nombres d'opérations : \" + str(cpt) + \"\\n\\n\")\n",
    "    marqueurs_negatifs.clear()\n",
    "\n",
    "    res_list=[m,p,cpt1,cpt2,cpt3]\n",
    "    return res_list\n",
    "\n"
   ]
  },
  {
   "cell_type": "code",
   "execution_count": 17,
   "metadata": {
    "datalore": {
     "hide_input_from_viewers": false,
     "hide_output_from_viewers": false,
     "type": "CODE"
    }
   },
   "outputs": [],
   "source": [
    "    res_list = []\n",
    "    m = 10\n",
    "    for i in range(1, 11):\n",
    "        filePath=\"res-\" + str(m) + \".dat\"\n",
    "        if os.path.exists(filePath):\n",
    "            os.remove(filePath)\n",
    "        with open(filePath, \"a\") as file:\n",
    "            for p in range(1, m + 1):\n",
    "                res = ' '.join(str(e) for e in test(p, m))\n",
    "                file.write(res+\"\\n\")\n",
    "        res_list.clear()\n",
    "        m += 10"
   ]
  },
  {
   "cell_type": "code",
   "execution_count": null,
   "metadata": {
    "datalore": {
     "hide_input_from_viewers": false,
     "hide_output_from_viewers": false,
     "type": "CODE"
    },
    "scrolled": true
   },
   "outputs": [],
   "source": [
    "df = pd.read_csv('res-50.dat',sep=\"\\s+\",skiprows=1,usecols=[0,1,2,3,4],names=['m','p','1','2','3'])\n",
    "df = pd.melt(df,id_vars='p',value_vars=['1','2','3'],value_name=\"Nombre d'opérations\", var_name=\"Stratégie\")\n",
    "print(df)\n"
   ]
  },
  {
   "cell_type": "code",
   "execution_count": null,
   "metadata": {
    "datalore": {
     "hide_input_from_viewers": false,
     "hide_output_from_viewers": false,
     "type": "CODE"
    }
   },
   "outputs": [],
   "source": [
    "%matplotlib notebook\n",
    "ggplot(df) +aes(x=\"p\",y=\"Nombre d'opérations\",group='Stratégie')+ geom_line(aes(color='Stratégie'),size=1,alpha=0.5)"
   ]
  },
  {
   "cell_type": "code",
   "execution_count": null,
   "metadata": {},
   "outputs": [],
   "source": []
  }
 ],
 "metadata": {
  "datalore": {
   "base_environment": "default",
   "computation_mode": "JUPYTER",
   "package_manager": "pip",
   "packages": [],
   "version": 1
  },
  "kernelspec": {
   "display_name": "Python 3",
   "language": "python",
   "name": "python3"
  },
  "language_info": {
   "codemirror_mode": {
    "name": "ipython",
    "version": 3
   },
   "file_extension": ".py",
   "mimetype": "text/x-python",
   "name": "python",
   "nbconvert_exporter": "python",
   "pygments_lexer": "ipython3",
   "version": "3.8.8"
  }
 },
 "nbformat": 4,
 "nbformat_minor": 4
}
