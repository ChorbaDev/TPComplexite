{
 "cells":[
  {
   "cell_type":"code",
   "source":[
    "import random\n",
    "from plotnine import *\n",
    "from plotnine.data import mpg\n",
    "from plotnine import ggplot\n",
    "import numpy as np\n",
    "import pandas as pd"
   ],
   "execution_count":38,
   "outputs":[
    
   ],
   "metadata":{
    "datalore":{
     "type":"CODE",
     "hide_input_from_viewers":false,
     "hide_output_from_viewers":false
    }
   }
  },
  {
   "cell_type":"code",
   "source":[
    "def echange(a: int, b: int) -> [int, int]:\n",
    "    \"\"\"Fonction pour échanger deux entiers\"\"\"\n",
    "    temp = a\n",
    "    a = b\n",
    "    b = temp\n",
    "    return a, b"
   ],
   "execution_count":2,
   "outputs":[
    
   ],
   "metadata":{
    "datalore":{
     "type":"CODE",
     "hide_input_from_viewers":false,
     "hide_output_from_viewers":false
    }
   }
  },
  {
   "cell_type":"code",
   "source":[
    "def affiche(table: list) -> None:\n",
    "    \"\"\"Fonction qui affiche un tableau\"\"\"\n",
    "    print(table)\n",
    "    print(\"\\n\")"
   ],
   "execution_count":3,
   "outputs":[
    
   ],
   "metadata":{
    "datalore":{
     "type":"CODE",
     "hide_input_from_viewers":false,
     "hide_output_from_viewers":false
    }
   }
  },
  {
   "cell_type":"code",
   "source":[
    "class Experience:\n",
    "    def __init__(self, m: int, p: int) -> None:\n",
    "        \"\"\"\n",
    "        Fonction qui cree une expérience et la stocke dans la structure passée en paramètre\n",
    "        Attention : il faut que p ≤ m\n",
    "        :param m: Nombre de marqueurs\n",
    "        :type m: int\n",
    "        :param p: Nombre de marqueurs positifs\n",
    "        :type p: int\n",
    "        marqueurs: Tous les marqueurs\n",
    "        marqueurs_positifs: Les marqueurs positifs\n",
    "        \"\"\"\n",
    "        self.m = m\n",
    "\n",
    "        self.marqueurs = [i for i in range(0, m)]\n",
    "        # random.shuffle uses fisher-yates algorithm\n",
    "        random.shuffle(self.marqueurs)\n",
    "\n",
    "        tmp = [i for i in range(0, m)]\n",
    "        self.p = p\n",
    "        self.marqueurs_positifs = []\n",
    "        for i in range(0, p):\n",
    "            j = random.randint(0, m - 1 - i)\n",
    "            self.marqueurs_positifs.insert(i, self.marqueurs[tmp[j]])\n",
    "            tmp[j] = tmp[m - i - 1]\n",
    "\n",
    "    def free_xp(self):\n",
    "        self.marqueurs.clear()\n",
    "        self.marqueurs_positifs.clear()"
   ],
   "execution_count":4,
   "outputs":[
    
   ],
   "metadata":{
    "datalore":{
     "type":"CODE",
     "hide_input_from_viewers":false,
     "hide_output_from_viewers":false
    }
   }
  },
  {
   "cell_type":"code",
   "source":[
    "\n",
    "def merge(arr: list, left_index: int, middle_index: int, right_index: int) -> None:\n",
    "    \"\"\"\n",
    "    Algorithme de tri fusion\n",
    "    Merges two subarrays of arr[].\n",
    "    First subarray is arr[l..m]\n",
    "    Second subarray is arr[m+1..r]\n",
    "    :param arr:\n",
    "    :param left_index:\n",
    "    :param middle_index:\n",
    "    :param right_index:\n",
    "    :return:\n",
    "    \"\"\"\n",
    "    n1 = middle_index - left_index + 1\n",
    "    n2 = right_index - middle_index\n",
    "    left, right = [], []\n",
    "    for i in range(0, n1):\n",
    "        left.insert(i, arr[left_index + i])\n",
    "    for j in range(0, n2):\n",
    "        right.insert(j, arr[middle_index + 1 + j])\n",
    "\n",
    "    i, j, k = 0, 0, left_index\n",
    "    while i < n1 and j < n2:\n",
    "        if left[i] <= right[j]:\n",
    "            arr[k] = left[i]\n",
    "            i += 1\n",
    "        else:\n",
    "            arr[k] = right[j]\n",
    "            j += 1\n",
    "        k += 1\n",
    "\n",
    "    while i < n1:\n",
    "        arr[k] = left[i]\n",
    "        i += 1\n",
    "        k += 1\n",
    "\n",
    "    while j < n2:\n",
    "        arr[k] = right[j]\n",
    "        j += 1\n",
    "        k += 1"
   ],
   "execution_count":5,
   "outputs":[
    
   ],
   "metadata":{
    "datalore":{
     "type":"CODE",
     "hide_input_from_viewers":false,
     "hide_output_from_viewers":false
    }
   }
  },
  {
   "cell_type":"code",
   "source":[
    "\n",
    "def merge_sort(arr: list, left_index: int, right_index: int) -> None:\n",
    "    \"\"\"\n",
    "    l is for left index and r is right index of the sub-array of arr to be sorted\n",
    "    :param arr:\n",
    "    :param left_index:\n",
    "    :param right_index:\n",
    "    :return:\n",
    "    \"\"\"\n",
    "    if left_index < right_index:\n",
    "        m = left_index + (right_index - left_index) \/\/ 2\n",
    "\n",
    "        merge_sort(arr, left_index, m)\n",
    "        merge_sort(arr, m + 1, right_index)\n",
    "\n",
    "        merge(arr, left_index, m, right_index)"
   ],
   "execution_count":6,
   "outputs":[
    
   ],
   "metadata":{
    "datalore":{
     "type":"CODE",
     "hide_input_from_viewers":false,
     "hide_output_from_viewers":false
    }
   }
  },
  {
   "cell_type":"code",
   "source":[
    "\n",
    "\n",
    "def marqueurs_negatifs1(xp: Experience, cpt_op: int) -> [list, int]:\n",
    "    \"\"\"\n",
    "    Fonction a completer - Stratégie 1\n",
    "    Le second argument servira à compter le nombre d'utilisations de l'opérateur OP\n",
    "    :param xp:\n",
    "    :param cpt_op:\n",
    "    :return:\n",
    "    \"\"\"\n",
    "    cpt_op = 0\n",
    "    res = []\n",
    "    for i in range(0, xp.m):\n",
    "        found, cpt_op = rech_seq(xp, xp.marqueurs[i], cpt_op)\n",
    "        if not found:\n",
    "            res.append(xp.marqueurs[i])\n",
    "    return res, cpt_op"
   ],
   "execution_count":7,
   "outputs":[
    
   ],
   "metadata":{
    "datalore":{
     "type":"CODE",
     "hide_input_from_viewers":false,
     "hide_output_from_viewers":false
    }
   }
  },
  {
   "cell_type":"code",
   "source":[
    "def rech_seq(xp, marqueur_rech, op):\n",
    "    for i in range(0, xp.p):\n",
    "        op += 1\n",
    "        if xp.marqueurs_positifs[i] == marqueur_rech:\n",
    "            return True, op\n",
    "    return False, op"
   ],
   "execution_count":8,
   "outputs":[
    
   ],
   "metadata":{
    "datalore":{
     "type":"CODE",
     "hide_input_from_viewers":false,
     "hide_output_from_viewers":false
    }
   }
  },
  {
   "cell_type":"code",
   "source":[
    "def marqueurs_negatifs2(xp: Experience, cpt_op: int) -> [list, int]:\n",
    "    \"\"\"\n",
    "    Fonction a completer - Stratégie 2\n",
    "    Le second argument servira à compter le nombre d'utilisations de l'opérateur OP\n",
    "    :param xp:\n",
    "    :param cpt_op:\n",
    "    :return:\n",
    "    \"\"\"\n",
    "    cpt_op = 0\n",
    "    nn = xp.m - xp.p\n",
    "    res = []\n",
    "    merge_sort(xp.marqueurs_positifs, 0, xp.p - 1)\n",
    "    j = -1\n",
    "    for i in range(0, xp.m):\n",
    "        trouver, tmpop = rechercher_dico(xp.marqueurs_positifs, xp.p, xp.marqueurs[i], cpt_op)\n",
    "        cpt_op = tmpop + 1\n",
    "        if not trouver:\n",
    "            j += 1\n",
    "            res.insert(j, xp.marqueurs[i])\n",
    "        if j == nn + 1:\n",
    "            break\n",
    "\n",
    "    return res, cpt_op\n",
    "\n"
   ],
   "execution_count":9,
   "outputs":[
    
   ],
   "metadata":{
    "datalore":{
     "type":"CODE",
     "hide_input_from_viewers":false,
     "hide_output_from_viewers":false
    }
   }
  },
  {
   "cell_type":"code",
   "source":[
    "def rechercher_dico(table: list, n: int, elt: int, op: int):\n",
    "    bas, haut = 0, n - 1\n",
    "    condition = True\n",
    "    while condition:\n",
    "        op += 1\n",
    "        milieu = (bas + haut) \/\/ 2\n",
    "        if elt == table[milieu]:\n",
    "            return True,op\n",
    "        elif table[milieu] < elt:\n",
    "            bas = milieu + 1\n",
    "        else:\n",
    "            haut = milieu - 1\n",
    "        if not bas <= haut:\n",
    "            break\n",
    "    return False,op"
   ],
   "execution_count":10,
   "outputs":[
    
   ],
   "metadata":{
    "datalore":{
     "type":"CODE",
     "hide_input_from_viewers":false,
     "hide_output_from_viewers":false
    }
   }
  },
  {
   "cell_type":"code",
   "source":[
    "def marqueurs_negatifs3(xp: Experience, cpt_op: int) -> [list, int]:\n",
    "    \"\"\"\n",
    "    Fonction a completer - Stratégie 1\n",
    "    Le second argument servira à compter le nombre d'utilisations de l'opérateur OP\n",
    "    :param xp:\n",
    "    :param cpt_op:\n",
    "    :return:\n",
    "    \"\"\"\n",
    "    cpt_op = 0\n",
    "    res = [i for i in range(0, xp.m - xp.p)]\n",
    "    return res, cpt_op"
   ],
   "execution_count":11,
   "outputs":[
    
   ],
   "metadata":{
    "datalore":{
     "type":"CODE",
     "hide_input_from_viewers":false,
     "hide_output_from_viewers":false
    }
   }
  },
  {
   "cell_type":"code",
   "source":[
    "def test(p: int, m: int):\n",
    "    xp = Experience(m, p)\n",
    "    cpt = 0\n",
    "\n",
    "#    print(\"Marqueurs :\\n\")\n",
    "#    affiche(xp.marqueurs)\n",
    "#    print(\"Marqueurs positifs :\\n\")\n",
    "#    affiche(xp.marqueurs_positifs)\n",
    "\n",
    "    # print(\"Stratégie 1\\n\")\n",
    "    marqueurs_negatifs, cpt1 = marqueurs_negatifs1(xp, cpt)\n",
    "    # print(\"Marqueurs négatifs :\\n\")\n",
    "    # affiche(marqueurs_negatifs)\n",
    "    # print(\"Stratégie 1 \/ Nombres d'opérations : \" + str(cpt) + \"\\n\\n\")\n",
    "    marqueurs_negatifs.clear()\n",
    "\n",
    "    # print(\"Stratégie 2\\n\")\n",
    "    marqueurs_negatifs, cpt2 = marqueurs_negatifs2(xp, cpt)\n",
    "    # print(\"Marqueurs négatifs :\\n\")\n",
    "    # affiche(marqueurs_negatifs)\n",
    "    # print(\"Stratégie 2 \/ Nombres d'opérations : \" + str(cpt) + \"\\n\\n\")\n",
    "    marqueurs_negatifs.clear()\n",
    "\n",
    "    # print(\"Stratégie 3\\n\")\n",
    "    marqueurs_negatifs, cpt3 = marqueurs_negatifs3(xp, cpt)\n",
    "    # print(\"Marqueurs négatifs :\\n\")\n",
    "    # affiche(marqueurs_negatifs)\n",
    "    # print(\"Stratégie 3 \/ Nombres d'opérations : \" + str(cpt) + \"\\n\\n\")\n",
    "    marqueurs_negatifs.clear()\n",
    "\n",
    "    res_list=[m,p,cpt1,cpt2,cpt3]\n",
    "    return res_list\n",
    "\n"
   ],
   "execution_count":12,
   "outputs":[
    
   ],
   "metadata":{
    "datalore":{
     "type":"CODE",
     "hide_input_from_viewers":false,
     "hide_output_from_viewers":false
    }
   }
  },
  {
   "cell_type":"code",
   "source":[
    "res_list = []\n",
    "m = 10\n",
    "for i in range(1, 11):\n",
    "    with open(\"res-\" + str(m) + \".dat\", \"a\") as file:\n",
    "        file.write(\"m p 1 2 3\\n\")\n",
    "        for p in range(1, m + 1):\n",
    "            res = ' '.join(str(e) for e in test(p, m))\n",
    "            file.write(res+\"\\n\")\n",
    "    res_list.clear()\n",
    "    m += 10"
   ],
   "execution_count":27,
   "outputs":[
    
   ],
   "metadata":{
    "datalore":{
     "type":"CODE",
     "hide_input_from_viewers":false,
     "hide_output_from_viewers":false
    }
   }
  },
  {
   "cell_type":"code",
   "source":[
    "df = pd.read_csv('res-50.dat',sep=\"\\s+\",skiprows=1,usecols=[0,1,2,3,4],names=['m','p','1','2','3'])\n",
    "df = pd.melt(df,id_vars='p',value_vars=['1','2','3'],value_name=\"Nombre d'opérations\", var_name=\"Stratégie\")\n",
    "print(df)\n"
   ],
   "execution_count":62,
   "outputs":[
    {
     "name":"stdout",
     "text":[
      "      p Stratégie  Nombre d'opérations\n",
      "0     1         1                   50\n",
      "1     2         1                   99\n",
      "2     3         1                  147\n",
      "3     4         1                  194\n",
      "4     5         1                  240\n",
      "..   ..       ...                  ...\n",
      "145  46         3                    0\n",
      "146  47         3                    0\n",
      "147  48         3                    0\n",
      "148  49         3                    0\n",
      "149  50         3                    0\n",
      "\n",
      "[150 rows x 3 columns]\n"
     ],
     "output_type":"stream"
    }
   ],
   "metadata":{
    "datalore":{
     "type":"CODE",
     "hide_input_from_viewers":false,
     "hide_output_from_viewers":false
    }
   }
  },
  {
   "cell_type":"code",
   "source":[
    "%matplotlib notebook\n",
    "ggplot(df) +aes(x=\"p\",y=\"Nombre d'opérations\",group='Stratégie')+ geom_line(aes(color='Stratégie'),size=1,alpha=0.5)"
   ],
   "execution_count":63,
   "outputs":[
    {
     "data":{
      "text\/html":[
       "<html lang=\"en\">\n",
       "   <head>\n",
       "       <script type=\"text\/javascript\" data-lets-plot-script=\"library\" src=\"https:\/\/cdn.jsdelivr.net\/gh\/JetBrains\/lets-plot@v2.2.1\/js-package\/distr\/lets-plot.min.js\"><\/script>\n",
       "   <\/head>\n",
       "   <body>\n",
       "          <div id=\"QGkrMa\"><\/div>\n",
       "   <script type=\"text\/javascript\" data-lets-plot-script=\"plot\">\n",
       "       var plotSpec={\n",
       "\"data\":{\n",
       "\"p\":[1.0,2.0,3.0,4.0,5.0,6.0,7.0,8.0,9.0,10.0,11.0,12.0,13.0,14.0,15.0,16.0,17.0,18.0,19.0,20.0,21.0,22.0,23.0,24.0,25.0,26.0,27.0,28.0,29.0,30.0,31.0,32.0,33.0,34.0,35.0,36.0,37.0,38.0,39.0,40.0,41.0,42.0,43.0,44.0,45.0,46.0,47.0,48.0,49.0,50.0,1.0,2.0,3.0,4.0,5.0,6.0,7.0,8.0,9.0,10.0,11.0,12.0,13.0,14.0,15.0,16.0,17.0,18.0,19.0,20.0,21.0,22.0,23.0,24.0,25.0,26.0,27.0,28.0,29.0,30.0,31.0,32.0,33.0,34.0,35.0,36.0,37.0,38.0,39.0,40.0,41.0,42.0,43.0,44.0,45.0,46.0,47.0,48.0,49.0,50.0,1.0,2.0,3.0,4.0,5.0,6.0,7.0,8.0,9.0,10.0,11.0,12.0,13.0,14.0,15.0,16.0,17.0,18.0,19.0,20.0,21.0,22.0,23.0,24.0,25.0,26.0,27.0,28.0,29.0,30.0,31.0,32.0,33.0,34.0,35.0,36.0,37.0,38.0,39.0,40.0,41.0,42.0,43.0,44.0,45.0,46.0,47.0,48.0,49.0,50.0],\n",
       "\"Stratégie\":[\"1\",\"1\",\"1\",\"1\",\"1\",\"1\",\"1\",\"1\",\"1\",\"1\",\"1\",\"1\",\"1\",\"1\",\"1\",\"1\",\"1\",\"1\",\"1\",\"1\",\"1\",\"1\",\"1\",\"1\",\"1\",\"1\",\"1\",\"1\",\"1\",\"1\",\"1\",\"1\",\"1\",\"1\",\"1\",\"1\",\"1\",\"1\",\"1\",\"1\",\"1\",\"1\",\"1\",\"1\",\"1\",\"1\",\"1\",\"1\",\"1\",\"1\",\"2\",\"2\",\"2\",\"2\",\"2\",\"2\",\"2\",\"2\",\"2\",\"2\",\"2\",\"2\",\"2\",\"2\",\"2\",\"2\",\"2\",\"2\",\"2\",\"2\",\"2\",\"2\",\"2\",\"2\",\"2\",\"2\",\"2\",\"2\",\"2\",\"2\",\"2\",\"2\",\"2\",\"2\",\"2\",\"2\",\"2\",\"2\",\"2\",\"2\",\"2\",\"2\",\"2\",\"2\",\"2\",\"2\",\"2\",\"2\",\"2\",\"2\",\"3\",\"3\",\"3\",\"3\",\"3\",\"3\",\"3\",\"3\",\"3\",\"3\",\"3\",\"3\",\"3\",\"3\",\"3\",\"3\",\"3\",\"3\",\"3\",\"3\",\"3\",\"3\",\"3\",\"3\",\"3\",\"3\",\"3\",\"3\",\"3\",\"3\",\"3\",\"3\",\"3\",\"3\",\"3\",\"3\",\"3\",\"3\",\"3\",\"3\",\"3\",\"3\",\"3\",\"3\",\"3\",\"3\",\"3\",\"3\",\"3\",\"3\"],\n",
       "\"Nombre d'opérations\":[50.0,99.0,147.0,194.0,240.0,285.0,329.0,372.0,414.0,455.0,495.0,534.0,572.0,609.0,645.0,680.0,714.0,747.0,779.0,810.0,840.0,869.0,897.0,924.0,950.0,975.0,999.0,1022.0,1044.0,1065.0,1085.0,1104.0,1122.0,1139.0,1155.0,1170.0,1184.0,1197.0,1209.0,1220.0,1230.0,1239.0,1247.0,1254.0,1260.0,1265.0,1269.0,1272.0,1274.0,1275.0,100.0,145.0,149.0,172.0,175.0,191.0,196.0,201.0,213.0,221.0,229.0,232.0,235.0,239.0,239.0,245.0,247.0,244.0,257.0,256.0,257.0,265.0,270.0,270.0,266.0,269.0,272.0,274.0,274.0,274.0,274.0,275.0,276.0,278.0,282.0,284.0,283.0,284.0,288.0,287.0,285.0,289.0,290.0,291.0,290.0,292.0,292.0,293.0,292.0,293.0,0.0,0.0,0.0,0.0,0.0,0.0,0.0,0.0,0.0,0.0,0.0,0.0,0.0,0.0,0.0,0.0,0.0,0.0,0.0,0.0,0.0,0.0,0.0,0.0,0.0,0.0,0.0,0.0,0.0,0.0,0.0,0.0,0.0,0.0,0.0,0.0,0.0,0.0,0.0,0.0,0.0,0.0,0.0,0.0,0.0,0.0,0.0,0.0,0.0,0.0]\n",
       "},\n",
       "\"mapping\":{\n",
       "\"x\":\"p\",\n",
       "\"y\":\"Nombre d'opérations\",\n",
       "\"group\":\"Stratégie\"\n",
       "},\n",
       "\"data_meta\":{\n",
       "},\n",
       "\"kind\":\"plot\",\n",
       "\"scales\":[],\n",
       "\"layers\":[{\n",
       "\"geom\":\"line\",\n",
       "\"mapping\":{\n",
       "\"color\":\"Stratégie\"\n",
       "},\n",
       "\"data_meta\":{\n",
       "},\n",
       "\"size\":1,\n",
       "\"alpha\":0.5,\n",
       "\"data\":{\n",
       "}\n",
       "}]\n",
       "};\n",
       "       var plotContainer = document.getElementById(\"QGkrMa\");\n",
       "       LetsPlot.buildPlotFromProcessedSpecs(plotSpec, -1, -1, plotContainer);\n",
       "   <\/script>\n",
       "   <\/body>\n",
       "<\/html>"
      ]
     },
     "metadata":{
      
     },
     "output_type":"display_data"
    }
   ],
   "metadata":{
    "datalore":{
     "type":"CODE",
     "hide_input_from_viewers":false,
     "hide_output_from_viewers":false
    }
   }
  }
 ],
 "metadata":{
  "datalore":{
   "version":1,
   "computation_mode":"JUPYTER",
   "package_manager":"pip",
   "base_environment":"default",
   "packages":[
    
   ]
  }
 },
 "nbformat":4,
 "nbformat_minor":4
}